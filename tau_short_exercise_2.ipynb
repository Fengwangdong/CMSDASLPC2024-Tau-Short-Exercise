{
 "cells": [
  {
   "cell_type": "markdown",
   "metadata": {},
   "source": [
    "# Short tau exercise: Part 2\n",
    "\n",
    "Learning objectives:\n",
    "* the reconstruction of hadronic tau decays in different decay modes (in part 1)\n",
    "* __discrimination of hadronic tau decys against jets, electrons, and muons.__ (this part 2)\n",
    "\n",
    "Additional material:\n",
    "* TAU-16-003: Latest paper about tau reconstruction http://cms-results.web.cern.ch/cms-results/public-results/publications/TAU-16-003/index.html\n",
    "* __DeepTau: Algorithm based on neural networks to discriminate taus against jets, muons, and electrons https://cds.cern.ch/record/2694158__"
   ]
  },
  {
   "cell_type": "code",
   "execution_count": null,
   "metadata": {
    "scrolled": true
   },
   "outputs": [],
   "source": [
    "from __future__ import print_function # retain python 2 compatibility\n",
    "import ROOT\n",
    "from roc_tools import hists_to_roc, make_roc_plot"
   ]
  },
  {
   "cell_type": "markdown",
   "metadata": {},
   "source": [
    "The following two files contain reconstructed hadronic taus. The first (ztt) contains true hadronic tau decays in a Z->tau tau sample, whereas the second file (qcd) contains reconstructed hadronic taus from QCD multijet events.\n",
    "\n",
    "* The files were preprocessed using the tau validation tools here https://github.com/cms-tau-pog/TauReleaseValidation\n",
    "\n",
    "We extract the two TTrees that contain one entry per tau. You can check the content of the files by browsing them with a ROOT TBrowser."
   ]
  },
  {
   "cell_type": "code",
   "execution_count": null,
   "metadata": {
    "scrolled": true
   },
   "outputs": [],
   "source": [
    "base_dir = '/eos/cms/store/user/fengwang/CMSDAS2024/' # if you're running from swan.cern.ch\n",
    "#base_dir = './inputFiles/' # if you're running from local after downloading the input root files\n",
    "tau_sample = f'{base_dir}/ztt_10_6_14.root'\n",
    "jet_sample = f'{base_dir}/qcd_10_6_14.root'\n",
    "tau_file = ROOT.TFile.Open(tau_sample)\n",
    "tau_tree = tau_file.Get('per_tau')\n",
    "jet_file = ROOT.TFile.Open(jet_sample)\n",
    "jet_tree = jet_file.Get('per_tau')\n",
    "\n",
    "# # The trees can be investigated in this Jupyter notebook:\n",
    "# print([g.GetName() for g in jet_tree.GetListOfBranches()])\n",
    "# cv = ROOT.TCanvas()\n",
    "# tau_tree.Draw('tau_pt')\n",
    "# cv.Draw()\n",
    "# tau_tree.Draw('tau_pt', 'tau_pt > 0.') # only draw if tau was actually reconstructed\n",
    "# cv.Draw()\n",
    "\n",
    "# # Alternatively, to inspect the file, type t = ROOT.TBrowser() in an interactive ROOT \n",
    "# # session or \"rootbrowse <filename>\" in a shell"
   ]
  },
  {
   "cell_type": "markdown",
   "metadata": {},
   "source": [
    "In the following, we define a base selection that we want all reconstructed taus to pass. We generally want to distinguish true reconstructed taus that pass some kinematic criteria from those coming from jets or leptons.\n",
    "Here, we require the taus to pass decay mode finding, to have minimum recommended pT and maximum absolute value of eta, and to not be reconstructed in the two decay modes with missing charged hadrons, 5 and 6, since they are less well commissioned than the other decay modes and since the charge assignment has a larger uncertainty. However, feel free to change the selection criteria and check how the results below change, e.g. if you're interested in high pT taus or in the additional decay modes,"
   ]
  },
  {
   "cell_type": "code",
   "execution_count": null,
   "metadata": {},
   "outputs": [],
   "source": [
    "base_selection = 'tau_decayModeFindingNewDMs && tau_pt>20. && abs(tau_eta)<2.3'\n",
    "base_selection += '&& tau_dm != 5 && tau_dm != 6'"
   ]
  },
  {
   "cell_type": "markdown",
   "metadata": {},
   "source": [
    "To distinguish taus and jets, different observables are helpful. Classically the most important ones are so-called isolation variables that look at the sum of the pT values of all particles in a cone around the tau axis that are not used in the tau reconstruction: Since jets have high multiplicity, the isolation values tend to be high for jets while they are small for true taus, where ideally all tau energy was used in the reconstruction of the tau candidate and the only remaining particles in a cone around the tau come from pileup or the underlying event. The simplest is the sum of the pT of all charged particles that are compatible with coming from the primary interaction vertex."
   ]
  },
  {
   "cell_type": "code",
   "execution_count": null,
   "metadata": {
    "scrolled": true
   },
   "outputs": [],
   "source": [
    "cv = ROOT.TCanvas()\n",
    "h_ch_s = ROOT.TH1F('h_ch_s', '', 30, 0., 60.)\n",
    "tau_tree.Project('h_ch_s', 'tau_chargedIsoPtSum', base_selection)\n",
    "h_ch_b = ROOT.TH1F('h_ch_b', '', 30, 0., 60.)\n",
    "jet_tree.Project('h_ch_b', 'tau_chargedIsoPtSum', base_selection)\n",
    "h_ch_s.Draw()\n",
    "h_ch_b.SetLineColor(2)\n",
    "h_ch_b.Draw(\"same\")\n",
    "cv.Draw()"
   ]
  },
  {
   "cell_type": "markdown",
   "metadata": {},
   "source": [
    "There is apparently good separation between true taus (black curve) and jets (red curve).\n",
    "\n",
    "*Can you find more variables that discrimate between taus and jets?*"
   ]
  },
  {
   "cell_type": "markdown",
   "metadata": {},
   "source": [
    "A useful tool to compare the discrimination of different variables that can distinguish taus and jets are so-called ROCs (receiver operating curves) that show the background efficiency vs the signal efficiency. Well-performing discriminators are very off-diagonal.\n",
    "\n",
    "To construct a ROC, we make use of ROOT histograms for a pre-partioning of the data. While not strictly needed, it can be useful to restrict the values in the histograms to be between 0 and 1, so we transform the variables via\n",
    "`x -> 1/(1+x)` (since x is positive)."
   ]
  },
  {
   "cell_type": "code",
   "execution_count": null,
   "metadata": {},
   "outputs": [],
   "source": [
    "signal = ROOT.TH1F('signal', '', 1000, 0., 1.0001)\n",
    "background = ROOT.TH1F('background', '', 1000, 0., 1.0001)\n",
    "\n",
    "tau_tree.Project('signal', '1./(1.+tau_chargedIsoPtSum)', base_selection)\n",
    "jet_tree.Project('background', '1./(1.+tau_chargedIsoPtSum)', base_selection)"
   ]
  },
  {
   "cell_type": "markdown",
   "metadata": {},
   "source": [
    "The imported functions create a TGraph from the signal and background histograms and subsequently plot the ROC. As can be seen below, the plotting can handle multiple ROCs."
   ]
  },
  {
   "cell_type": "code",
   "execution_count": null,
   "metadata": {},
   "outputs": [],
   "source": [
    "roc = hists_to_roc(signal, background)\n",
    "roc.title = 'charged'"
   ]
  },
  {
   "cell_type": "code",
   "execution_count": null,
   "metadata": {
    "scrolled": true
   },
   "outputs": [],
   "source": [
    "_, canvas = make_roc_plot([roc])\n",
    "canvas.Draw()\n"
   ]
  },
  {
   "cell_type": "markdown",
   "metadata": {},
   "source": [
    "Now that we've understood how to draw a ROC curve for a single variable, let's try to compare the performance of different tau discriminators against jets.\n",
    "\n",
    "*Which of the discriminants performs best? Are there any drawbacks of the BDT-based or of the DeepTau discrimants?*"
   ]
  },
  {
   "cell_type": "code",
   "execution_count": null,
   "metadata": {
    "scrolled": true
   },
   "outputs": [],
   "source": [
    "discriminators = {\n",
    "    'tau_chargedIsoPtSum':'charged', \n",
    "    # cutoff-based tau isolation, used in run 1, e.g. in TAU-14-001 and HIG-13-004\n",
    "    'tau_byCombinedIsolationDeltaBetaCorrRaw3Hits':'cutoff', \n",
    "    # BDT-based tau ID, started in TAU-14-001 and refined in TAU-16-003\n",
    "    'tau_byIsolationMVArun2v1DBoldDMwLTraw':'BDT', \n",
    "    # BDT-based tau ID, started in TAU-14-001 and refined in TAU-16-003\n",
    "    'tau_byIsolationMVArun2v1DBnewDMwLTraw':'BDT (new DMs)', \n",
    "    # New DNN-based ID\n",
    "    'tau_byDeepTau2017v2VSjetraw':'DeepTau'\n",
    "}\n",
    "rocs = []\n",
    "for disc, title in discriminators.items():\n",
    "    s_name = 'signal'+disc\n",
    "    b_name = 'background'+disc\n",
    "    signal = ROOT.TH1F(s_name, '', 1000, 0., 1.0001)\n",
    "    background = ROOT.TH1F(b_name, '', 1000, 0., 1.0001)\n",
    "    # The BDT values lie in the range [-1, 1] so we transform x -> 1./(2+x)\n",
    "    # to make sure outputs lie in the range [0, 1]\n",
    "    tau_tree.Project(s_name, f'1./(2.+{disc})', base_selection)\n",
    "    jet_tree.Project(b_name, f'1./(2.+{disc})', base_selection)\n",
    "    roc = hists_to_roc(signal, background)\n",
    "    roc.title = title\n",
    "    rocs.append(roc)\n",
    "_, m_canvas = make_roc_plot(rocs, xmin=0.3, ymin=0.0001, ymax=0., logy=True)\n",
    "m_canvas.Draw()\n",
    "    "
   ]
  },
  {
   "cell_type": "markdown",
   "metadata": {},
   "source": [
    "Finally, tau identification is not only about discriminating against jets but also against electrons and muons.\n",
    "\n",
    "* Which observables might help to distinguish taus from electrons or muons?\n",
    "* Can you try to create similar ROCs as above but for the discrimination of taus against electrons or muons?\n",
    "\n",
    "Hints:\n",
    "* Use the trees created in the following cells that contain taus either coming from true muons (Z->mumu) or true electrons (Z->ee)\n",
    "* As before, there are different discriminators: tau_againstElectronMVA6Raw, tau_byDeepTau2017v2VSeraw, tau_byDeepTau2017v2VSmuraw"
   ]
  },
  {
   "cell_type": "code",
   "execution_count": null,
   "metadata": {},
   "outputs": [],
   "source": [
    "# muo_sample = f'{base_dir}/zmm_10_6_14.root'\n",
    "# ele_sample = f'{base_dir}/zee_10_6_14.root'\n",
    "# muo_file = ROOT.TFile.Open(muo_sample)\n",
    "# muo_tree = muo_file.Get('per_tau')\n",
    "# ele_file = ROOT.TFile.Open(ele_sample)\n",
    "# ele_tree = ele_file.Get('per_tau')\n"
   ]
  },
  {
   "cell_type": "markdown",
   "metadata": {},
   "source": [
    "Congratulations if you made it this far! It would be great if you could share with us that you finished the exercises and ideally also your final jupyter notebooks, either by email zfwd666@SPAMDELETETHISfnal.gov or by contacting us directly, e.g. via mattermost. The final notebooks can be shared in the format you prefer, e.g. by putting them into a github repository, exporting the notebook as html/pdf/..., or by other means."
   ]
  }
 ],
 "metadata": {
  "kernelspec": {
   "display_name": "Python 3 (ipykernel)",
   "language": "python",
   "name": "python3"
  },
  "language_info": {
   "codemirror_mode": {
    "name": "ipython",
    "version": 3
   },
   "file_extension": ".py",
   "mimetype": "text/x-python",
   "name": "python",
   "nbconvert_exporter": "python",
   "pygments_lexer": "ipython3",
   "version": "3.10.8"
  }
 },
 "nbformat": 4,
 "nbformat_minor": 4
}
